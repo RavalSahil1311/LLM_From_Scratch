{
 "cells": [
  {
   "cell_type": "code",
   "execution_count": 1,
   "id": "ed3828a6-cebf-46d3-a62f-afa97063b792",
   "metadata": {},
   "outputs": [],
   "source": [
    "import torch\n",
    "device='cuda' if torch.cuda.is_available() else 'cpu'"
   ]
  },
  {
   "cell_type": "code",
   "execution_count": 2,
   "id": "869980d5-6770-4cd6-beeb-94d53a345535",
   "metadata": {},
   "outputs": [],
   "source": [
    "import time\n",
    "import numpy as np"
   ]
  },
  {
   "cell_type": "code",
   "execution_count": 3,
   "id": "2a639712-5ba6-48f9-9602-36873ab333ab",
   "metadata": {},
   "outputs": [
    {
     "name": "stdout",
     "output_type": "stream",
     "text": [
      "0.31452322\n",
      "CPU times: total: 297 ms\n",
      "Wall time: 315 ms\n"
     ]
    }
   ],
   "source": [
    "%%time\n",
    "start_time=time.time()\n",
    "zeros=torch.zeros(100,100,100,100)\n",
    "end=time.time()\n",
    "\n",
    "tt=end-start_time\n",
    "print(f\"{tt:.8f}\")"
   ]
  },
  {
   "cell_type": "code",
   "execution_count": 4,
   "id": "6bc260eb-852a-42b9-8740-69f16f382e44",
   "metadata": {},
   "outputs": [],
   "source": [
    "randint=torch.randint(-100,100,(5,))"
   ]
  },
  {
   "cell_type": "code",
   "execution_count": 5,
   "id": "c06da306-1d5d-41b1-a559-6912e33d5c4b",
   "metadata": {},
   "outputs": [
    {
     "data": {
      "text/plain": [
       "tensor([ 73, -58,  -3,  13, -28])"
      ]
     },
     "execution_count": 5,
     "metadata": {},
     "output_type": "execute_result"
    }
   ],
   "source": [
    "randint"
   ]
  },
  {
   "cell_type": "code",
   "execution_count": 6,
   "id": "678e7d65-38fe-45b1-ac15-fcdf8bffbfe7",
   "metadata": {},
   "outputs": [
    {
     "data": {
      "text/plain": [
       "tensor([[ 0.1000,  0.2000],\n",
       "        [ 0.1000,  0.3000],\n",
       "        [ 0.1000, -0.3000]])"
      ]
     },
     "execution_count": 6,
     "metadata": {},
     "output_type": "execute_result"
    }
   ],
   "source": [
    "tensor=torch.tensor([[0.1,0.2],[0.1,0.3],[0.1,-0.3]])\n",
    "tensor"
   ]
  },
  {
   "cell_type": "code",
   "execution_count": 7,
   "id": "555c56e1-c85d-429c-ba9c-87b5e2db17a2",
   "metadata": {},
   "outputs": [
    {
     "data": {
      "text/plain": [
       "tensor([[0., 0., 0.],\n",
       "        [0., 0., 0.],\n",
       "        [0., 0., 0.],\n",
       "        [0., 0., 0.],\n",
       "        [0., 0., 0.]])"
      ]
     },
     "execution_count": 7,
     "metadata": {},
     "output_type": "execute_result"
    }
   ],
   "source": [
    "zeros=torch.zeros(5,3)\n",
    "zeros"
   ]
  },
  {
   "cell_type": "code",
   "execution_count": 8,
   "id": "5d6578f5-a0c5-4b9a-8226-922b8362c606",
   "metadata": {},
   "outputs": [
    {
     "data": {
      "text/plain": [
       "'cuda'"
      ]
     },
     "execution_count": 8,
     "metadata": {},
     "output_type": "execute_result"
    }
   ],
   "source": [
    "device"
   ]
  },
  {
   "cell_type": "code",
   "execution_count": 9,
   "id": "bdd6f132-d0d5-41f4-b91f-72be893c6dad",
   "metadata": {},
   "outputs": [
    {
     "name": "stdout",
     "output_type": "stream",
     "text": [
      "0.0000\n"
     ]
    }
   ],
   "source": [
    "start_time=time.time()\n",
    "\n",
    "zeros=torch.zeros(30,50)\n",
    "end=time.time()\n",
    "\n",
    "tt=end-start_time\n",
    "print(f\"{tt:.4f}\")\n"
   ]
  },
  {
   "cell_type": "code",
   "execution_count": 50,
   "id": "c9f8df95-4916-4cf5-a22c-358f7346e45e",
   "metadata": {},
   "outputs": [
    {
     "name": "stdout",
     "output_type": "stream",
     "text": [
      "0.0039989948\n",
      "0.1159999371\n"
     ]
    }
   ],
   "source": [
    "torch_rand1=torch.rand(100,100,100,100).to(device)\n",
    "torch_rand2=torch.rand(100,100,100,100).to(device)\n",
    "np_rand1=torch.rand(100,100,100,100)\n",
    "np_rand2=torch.rand(100,100,100,100)\n",
    "\n",
    "start_time=time.time()\n",
    "rand=(torch_rand1@torch_rand2)\n",
    "end=time.time()\n",
    "tt=end-start_time\n",
    "print(f\"{tt:.10f}\")\n",
    "\n",
    "\n",
    "start_time=time.time()\n",
    "rand=np.multiply(np_rand1,np_rand2)\n",
    "end=time.time()\n",
    "tt=end-start_time\n",
    "print(f\"{tt:.10f}\")"
   ]
  },
  {
   "cell_type": "code",
   "execution_count": 11,
   "id": "dbdfd1be-d584-48ce-a596-0015f2964930",
   "metadata": {},
   "outputs": [
    {
     "data": {
      "text/plain": [
       "tensor([1, 1, 1, 1, 0, 1, 1, 1, 1, 1])"
      ]
     },
     "execution_count": 11,
     "metadata": {},
     "output_type": "execute_result"
    }
   ],
   "source": [
    "probebilities=torch.tensor([0.1,0.9])\n",
    "samples=torch.multinomial(probebilities,num_samples=10,replacement=True)\n",
    "samples"
   ]
  },
  {
   "cell_type": "code",
   "execution_count": 12,
   "id": "54ba153e-80dc-4187-bd3a-40a6203ecfa6",
   "metadata": {},
   "outputs": [
    {
     "data": {
      "text/plain": [
       "tensor([1, 2, 3, 4, 5])"
      ]
     },
     "execution_count": 12,
     "metadata": {},
     "output_type": "execute_result"
    }
   ],
   "source": [
    "tensor=torch.tensor([1,2,3,4])\n",
    "out=torch.cat((tensor,torch.tensor([5])),dim=0)\n",
    "out"
   ]
  },
  {
   "cell_type": "code",
   "execution_count": 13,
   "id": "c7eedb5b-a5e6-4331-a758-152ed61fc3e6",
   "metadata": {},
   "outputs": [
    {
     "data": {
      "text/plain": [
       "tensor([[1., 0., 0., 0., 0.],\n",
       "        [1., 1., 0., 0., 0.],\n",
       "        [1., 1., 1., 0., 0.],\n",
       "        [1., 1., 1., 1., 0.],\n",
       "        [1., 1., 1., 1., 1.]])"
      ]
     },
     "execution_count": 13,
     "metadata": {},
     "output_type": "execute_result"
    }
   ],
   "source": [
    "torch.tril(torch.ones(5,5))"
   ]
  },
  {
   "cell_type": "code",
   "execution_count": 14,
   "id": "404fbf8a-3b87-4b4e-b860-8c677dfd030a",
   "metadata": {},
   "outputs": [
    {
     "data": {
      "text/plain": [
       "tensor([[1., 1., 1., 1., 1.],\n",
       "        [0., 1., 1., 1., 1.],\n",
       "        [0., 0., 1., 1., 1.],\n",
       "        [0., 0., 0., 1., 1.],\n",
       "        [0., 0., 0., 0., 1.]])"
      ]
     },
     "execution_count": 14,
     "metadata": {},
     "output_type": "execute_result"
    }
   ],
   "source": [
    "torch.triu(torch.ones(5,5))"
   ]
  },
  {
   "cell_type": "code",
   "execution_count": 15,
   "id": "fa680b73-a164-4b68-9ccd-e63190a50bed",
   "metadata": {},
   "outputs": [
    {
     "data": {
      "text/plain": [
       "tensor([[0., -inf, -inf, -inf, -inf],\n",
       "        [0., 0., -inf, -inf, -inf],\n",
       "        [0., 0., 0., -inf, -inf],\n",
       "        [0., 0., 0., 0., -inf],\n",
       "        [0., 0., 0., 0., 0.]])"
      ]
     },
     "execution_count": 15,
     "metadata": {},
     "output_type": "execute_result"
    }
   ],
   "source": [
    "out=torch.zeros(5,5).masked_fill(torch.tril(torch.ones(5,5))==0,float('-inf'))\n",
    "out"
   ]
  },
  {
   "cell_type": "code",
   "execution_count": 16,
   "id": "900bedf7-e2c5-49bc-a9ce-55cafb1e6f0a",
   "metadata": {},
   "outputs": [
    {
     "data": {
      "text/plain": [
       "tensor([[1., 0., 0., 0., 0.],\n",
       "        [1., 1., 0., 0., 0.],\n",
       "        [1., 1., 1., 0., 0.],\n",
       "        [1., 1., 1., 1., 0.],\n",
       "        [1., 1., 1., 1., 1.]])"
      ]
     },
     "execution_count": 16,
     "metadata": {},
     "output_type": "execute_result"
    }
   ],
   "source": [
    "torch.exp(out)"
   ]
  },
  {
   "cell_type": "code",
   "execution_count": 17,
   "id": "1e039366-7e7d-4615-a692-22587b567e68",
   "metadata": {},
   "outputs": [
    {
     "data": {
      "text/plain": [
       "torch.Size([4, 3, 2])"
      ]
     },
     "execution_count": 17,
     "metadata": {},
     "output_type": "execute_result"
    }
   ],
   "source": [
    "input=torch.zeros(2,3,4)\n",
    "out=input.transpose(0,2)\n",
    "out.shape\n",
    "# print(input)\n",
    "# print(out)"
   ]
  },
  {
   "cell_type": "code",
   "execution_count": 18,
   "id": "2e4e49c6-80c5-4d8e-b802-d36b7c1e3057",
   "metadata": {},
   "outputs": [
    {
     "data": {
      "text/plain": [
       "tensor([[1, 2, 3],\n",
       "        [4, 5, 6],\n",
       "        [7, 8, 9]])"
      ]
     },
     "execution_count": 18,
     "metadata": {},
     "output_type": "execute_result"
    }
   ],
   "source": [
    "tensor1=torch.tensor([1,2,3])\n",
    "tensor2=torch.tensor([4,5,6])\n",
    "tensor3=torch.tensor([7,8,9])\n",
    "out=torch.stack([tensor1,tensor2,tensor3])\n",
    "out"
   ]
  },
  {
   "cell_type": "code",
   "execution_count": 3,
   "id": "c5670696-7d17-4596-9b94-04bb9b2755a9",
   "metadata": {},
   "outputs": [],
   "source": [
    "import torch.nn as nn\n",
    "import torch.nn.functional as F"
   ]
  },
  {
   "cell_type": "code",
   "execution_count": 20,
   "id": "d9a2f970-d80b-4a86-b774-4fd13114b1a1",
   "metadata": {},
   "outputs": [],
   "source": [
    "sample=torch.tensor([10.0,10.0,10.0])"
   ]
  },
  {
   "cell_type": "code",
   "execution_count": 27,
   "id": "bd09e63a-db57-4912-82d2-5e79afe66c17",
   "metadata": {},
   "outputs": [
    {
     "name": "stdout",
     "output_type": "stream",
     "text": [
      "tensor([-2.0868, -6.8134, -4.7768], grad_fn=<SqueezeBackward4>)\n"
     ]
    }
   ],
   "source": [
    "linear=nn.Linear(3,3,bias=False)\n",
    "print(linear(sample))"
   ]
  },
  {
   "cell_type": "code",
   "execution_count": 31,
   "id": "f41fbb08-25f3-4e97-a446-464e7e06b91c",
   "metadata": {},
   "outputs": [],
   "source": [
    "tensor1=torch.tensor([1.0,2.0,3.0])\n",
    "\n",
    "softmax_out=F.softmax(tensor1,dim=0)"
   ]
  },
  {
   "cell_type": "code",
   "execution_count": 32,
   "id": "1c7a5001-8fcf-47c5-ba6b-caeaa52d7f2d",
   "metadata": {},
   "outputs": [
    {
     "name": "stdout",
     "output_type": "stream",
     "text": [
      "tensor([0.0900, 0.2447, 0.6652])\n"
     ]
    }
   ],
   "source": [
    "print(softmax_out)"
   ]
  },
  {
   "cell_type": "code",
   "execution_count": 39,
   "id": "6a418c66-a24a-46d2-a52c-13ddc26aaf63",
   "metadata": {},
   "outputs": [
    {
     "name": "stdout",
     "output_type": "stream",
     "text": [
      "torch.Size([4, 100])\n"
     ]
    }
   ],
   "source": [
    "vocab_size=10000\n",
    "embedding_dim=100\n",
    "\n",
    "embedding=nn.Embedding(vocab_size,embedding_dim)\n",
    "\n",
    "input_indices=torch.LongTensor([1,5,3,2])\n",
    "\n",
    "embedded_output=embedding(input_indices)\n",
    "\n",
    "print(embedded_output.shape)"
   ]
  },
  {
   "cell_type": "code",
   "execution_count": 42,
   "id": "d8092e4d-5426-4f30-b48a-8d15eb3f06de",
   "metadata": {},
   "outputs": [
    {
     "name": "stdout",
     "output_type": "stream",
     "text": [
      "tensor([[ 27,  30,  33],\n",
      "        [ 61,  68,  75],\n",
      "        [ 95, 106, 117]])\n"
     ]
    }
   ],
   "source": [
    "a=torch.tensor([[1,2],[3,4],[5,6]])\n",
    "b=torch.tensor([[7,8,9],[10,11,12]])\n",
    "# print(a@b)\n",
    "print(torch.matmul(a,b))"
   ]
  },
  {
   "cell_type": "code",
   "execution_count": 49,
   "id": "12bc12f0-e180-4623-9dbd-d6720159eda7",
   "metadata": {},
   "outputs": [
    {
     "name": "stdout",
     "output_type": "stream",
     "text": [
      "tensor([[0., 0., 0.],\n",
      "        [0., 0., 0.],\n",
      "        [0., 0., 0.]])\n"
     ]
    }
   ],
   "source": [
    "int_64=torch.randint(1,(3,2)).float()\n",
    "float_32=torch.rand(2,3)\n",
    "# print(int_64.dtype,float_32.dtype)\n",
    "\n",
    "result=torch.matmul(int_64,float_32)\n",
    "# print(result)\n",
    "print(int_64@float_32)"
   ]
  },
  {
   "cell_type": "code",
   "execution_count": 9,
   "id": "9692956b-08a4-4b50-be81-e13159c97dfa",
   "metadata": {},
   "outputs": [
    {
     "name": "stdout",
     "output_type": "stream",
     "text": [
      "tensor([[[0.0292, 0.3249, 0.5945, 0.8525, 0.3974],\n",
      "         [0.8075, 0.6707, 0.6528, 0.3232, 0.7994],\n",
      "         [0.2946, 0.4835, 0.5783, 0.7165, 0.3240]],\n",
      "\n",
      "        [[0.6583, 0.1177, 0.7685, 0.8802, 0.5739],\n",
      "         [0.1452, 0.4217, 0.8252, 0.2856, 0.9214],\n",
      "         [0.2620, 0.8311, 0.4505, 0.1416, 0.0228]]])\n",
      "tensor([[[0.0292, 0.3249, 0.5945, 0.8525, 0.3974],\n",
      "         [0.8075, 0.6707, 0.6528, 0.3232, 0.7994],\n",
      "         [0.2946, 0.4835, 0.5783, 0.7165, 0.3240]],\n",
      "\n",
      "        [[0.6583, 0.1177, 0.7685, 0.8802, 0.5739],\n",
      "         [0.1452, 0.4217, 0.8252, 0.2856, 0.9214],\n",
      "         [0.2620, 0.8311, 0.4505, 0.1416, 0.0228]]])\n"
     ]
    }
   ],
   "source": [
    "a=torch.rand(2,3,5)\n",
    "x,y,z=a.shape\n",
    "b=a.view(x,y,z)\n",
    "print(a)\n",
    "print(b)"
   ]
  },
  {
   "cell_type": "code",
   "execution_count": null,
   "id": "740690a9-e4e9-4a36-bbba-22289b54da31",
   "metadata": {},
   "outputs": [],
   "source": []
  },
  {
   "cell_type": "code",
   "execution_count": null,
   "id": "14c78c34-e0b4-402c-90b7-53aec6467e9e",
   "metadata": {},
   "outputs": [],
   "source": []
  },
  {
   "cell_type": "code",
   "execution_count": null,
   "id": "aa30bf57-3dcc-4c95-a83c-4acdf9919c8d",
   "metadata": {},
   "outputs": [],
   "source": []
  },
  {
   "cell_type": "code",
   "execution_count": null,
   "id": "eea2c8de-f36f-4329-b8e9-cd8059df7e2e",
   "metadata": {},
   "outputs": [],
   "source": []
  },
  {
   "cell_type": "code",
   "execution_count": null,
   "id": "7a611b10-5f22-4148-b4e7-65897c47f0cf",
   "metadata": {},
   "outputs": [],
   "source": []
  },
  {
   "cell_type": "code",
   "execution_count": null,
   "id": "87a89428-fe7b-42e5-bb76-edc3031b9c14",
   "metadata": {},
   "outputs": [],
   "source": []
  },
  {
   "cell_type": "code",
   "execution_count": null,
   "id": "19fdfbd8-345d-40a4-8654-3de662153aa5",
   "metadata": {},
   "outputs": [],
   "source": []
  },
  {
   "cell_type": "code",
   "execution_count": null,
   "id": "f3aa045c-4362-4ad8-9a19-d46b751d48c0",
   "metadata": {},
   "outputs": [],
   "source": []
  },
  {
   "cell_type": "code",
   "execution_count": null,
   "id": "b3ddb88d-5136-4e0d-a057-a28585ba8b6f",
   "metadata": {},
   "outputs": [],
   "source": []
  },
  {
   "cell_type": "code",
   "execution_count": null,
   "id": "145e0a0b-5a19-4db4-a238-2de98fcd7465",
   "metadata": {},
   "outputs": [],
   "source": []
  },
  {
   "cell_type": "code",
   "execution_count": null,
   "id": "f7516e93-3e76-4357-be47-97735e0d5760",
   "metadata": {},
   "outputs": [],
   "source": []
  },
  {
   "cell_type": "code",
   "execution_count": null,
   "id": "54f54bb2-704b-4c9a-8cd5-5ffbb7e50e25",
   "metadata": {},
   "outputs": [],
   "source": []
  },
  {
   "cell_type": "code",
   "execution_count": null,
   "id": "77c31b1a-3904-4c92-9254-5ebdb8c02a41",
   "metadata": {},
   "outputs": [],
   "source": []
  },
  {
   "cell_type": "code",
   "execution_count": null,
   "id": "a28e7a4d-162b-4a85-aa0c-b6b570f3a54d",
   "metadata": {},
   "outputs": [],
   "source": []
  },
  {
   "cell_type": "code",
   "execution_count": null,
   "id": "f5b6ad2a-8993-4fb2-a355-6806c6e47c10",
   "metadata": {},
   "outputs": [],
   "source": []
  }
 ],
 "metadata": {
  "kernelspec": {
   "display_name": "CUDA-GPT",
   "language": "python",
   "name": "cuda"
  },
  "language_info": {
   "codemirror_mode": {
    "name": "ipython",
    "version": 3
   },
   "file_extension": ".py",
   "mimetype": "text/x-python",
   "name": "python",
   "nbconvert_exporter": "python",
   "pygments_lexer": "ipython3",
   "version": "3.11.5"
  }
 },
 "nbformat": 4,
 "nbformat_minor": 5
}
