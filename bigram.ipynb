{
 "cells": [
  {
   "cell_type": "markdown",
   "metadata": {},
   "source": [
    "# Basics"
   ]
  },
  {
   "cell_type": "code",
   "execution_count": 27,
   "metadata": {},
   "outputs": [
    {
     "name": "stdout",
     "output_type": "stream",
     "text": [
      "cuda\n"
     ]
    }
   ],
   "source": [
    "import torch\n",
    "import torch.nn as nn\n",
    "from torch.nn import functional as F\n",
    "device='cuda' if torch.cuda.is_available() else 'cpu'\n",
    "print(device)\n",
    "block_size=8\n",
    "batch_size=4\n",
    "max_iters=10000\n",
    "eval_interval=2500\n",
    "learning_rate=3e-4\n",
    "eval_iters=500\n",
    "dropout=0.2"
   ]
  },
  {
   "cell_type": "code",
   "execution_count": 2,
   "metadata": {},
   "outputs": [
    {
     "name": "stdout",
     "output_type": "stream",
     "text": [
      "['\\n', ' ', '!', '\"', '&', \"'\", '(', ')', '*', ',', '-', '.', '0', '1', '2', '3', '4', '5', '6', '7', '8', '9', ':', ';', '?', 'A', 'B', 'C', 'D', 'E', 'F', 'G', 'H', 'I', 'J', 'K', 'L', 'M', 'N', 'O', 'P', 'Q', 'R', 'S', 'T', 'U', 'V', 'W', 'X', 'Y', 'Z', '[', ']', '_', 'a', 'b', 'c', 'd', 'e', 'f', 'g', 'h', 'i', 'j', 'k', 'l', 'm', 'n', 'o', 'p', 'q', 'r', 's', 't', 'u', 'v', 'w', 'x', 'y', 'z', '\\ufeff']\n"
     ]
    }
   ],
   "source": [
    "with open('Wizard_of_OZ.txt','r',encoding='utf-8') as f:\n",
    "    text=f.read()\n",
    "chars=sorted(set(text))\n",
    "print(chars)\n",
    "vocabulary_size=len(chars)"
   ]
  },
  {
   "cell_type": "code",
   "execution_count": 3,
   "metadata": {},
   "outputs": [
    {
     "name": "stdout",
     "output_type": "stream",
     "text": [
      "tensor([80,  1,  1, 28, 39, 42, 39, 44, 32, 49,  1, 25, 38, 28,  1, 44, 32, 29,\n",
      "         1, 47, 33, 50, 25, 42, 28,  1, 33, 38,  1, 39, 50,  0,  0,  1,  1, 26,\n",
      "        49,  0,  0,  1,  1, 36, 11,  1, 30, 42, 25, 38, 35,  1, 26, 25, 45, 37,\n",
      "         0,  0,  1,  1, 25, 45, 44, 32, 39, 42,  1, 39, 30,  1, 44, 32, 29,  1,\n",
      "        47, 33, 50, 25, 42, 28,  1, 39, 30,  1, 39, 50,  9,  1, 44, 32, 29,  1,\n",
      "        36, 25, 38, 28,  1, 39, 30,  1, 39, 50])\n"
     ]
    }
   ],
   "source": [
    "string_to_int={ch:i for i,ch in enumerate(chars)}\n",
    "int_to_string={i:ch for i,ch in enumerate(chars)}\n",
    "\n",
    "encode=lambda s:[string_to_int[c] for c in s]\n",
    "decode=lambda l:''.join(int_to_string[i] for i in l)\n",
    "\n",
    "data=torch.tensor(encode(text),dtype=torch.long)\n",
    "print(data[:100])\n",
    "\n",
    "# decoded_hello=decode()\n",
    "# print(decoded_hello)"
   ]
  },
  {
   "cell_type": "code",
   "execution_count": 4,
   "metadata": {},
   "outputs": [
    {
     "name": "stdout",
     "output_type": "stream",
     "text": [
      "[72, 54, 61, 62, 65]\n"
     ]
    }
   ],
   "source": [
    "print(encode('sahil'))"
   ]
  },
  {
   "cell_type": "code",
   "execution_count": 5,
   "metadata": {},
   "outputs": [
    {
     "data": {
      "text/plain": [
       "'sahil'"
      ]
     },
     "execution_count": 5,
     "metadata": {},
     "output_type": "execute_result"
    }
   ],
   "source": [
    "decode([72, 54, 61, 62, 65])"
   ]
  },
  {
   "cell_type": "code",
   "execution_count": 6,
   "metadata": {},
   "outputs": [
    {
     "name": "stdout",
     "output_type": "stream",
     "text": [
      "[80, 1, 1, 28, 39, 42, 39, 44, 32, 49, 1, 25, 38, 28, 1, 44, 32, 29, 1, 47, 33, 50, 25, 42, 28, 1, 33, 38, 1, 39, 50, 0, 0, 1, 1, 26, 49, 0, 0, 1, 1, 36, 11, 1, 30, 42, 25, 38, 35, 1, 26, 25, 45, 37, 0, 0, 1, 1, 25, 45, 44, 32, 39, 42, 1, 39, 30, 1, 44, 32, 29, 1, 47, 33, 50, 25, 42, 28, 1, 39, 30, 1, 39, 50, 9, 1, 44, 32, 29, 1, 36, 25, 38, 28, 1, 39, 30, 1, 39, 50]\n"
     ]
    }
   ],
   "source": [
    "print(encode(text[:100]))"
   ]
  },
  {
   "cell_type": "code",
   "execution_count": 7,
   "metadata": {},
   "outputs": [
    {
     "data": {
      "text/plain": [
       "'\\ufeff  DOROTHY AND THE WIZARD IN OZ\\n\\n  BY\\n\\n  L. FRANK BAUM\\n\\n  AUTHOR OF THE WIZARD OF OZ, THE LAND OF OZ'"
      ]
     },
     "execution_count": 7,
     "metadata": {},
     "output_type": "execute_result"
    }
   ],
   "source": [
    "text[:100]"
   ]
  },
  {
   "cell_type": "code",
   "execution_count": 8,
   "metadata": {},
   "outputs": [
    {
     "data": {
      "text/plain": [
       "81"
      ]
     },
     "execution_count": 8,
     "metadata": {},
     "output_type": "execute_result"
    }
   ],
   "source": [
    "vocabulary_size"
   ]
  },
  {
   "cell_type": "markdown",
   "metadata": {},
   "source": [
    "# Training And Validation Split"
   ]
  },
  {
   "cell_type": "code",
   "execution_count": 9,
   "metadata": {},
   "outputs": [
    {
     "name": "stdout",
     "output_type": "stream",
     "text": [
      "inputs\n",
      "tensor([[ 1, 73, 68,  1, 54, 65, 65,  1],\n",
      "        [58,  1, 66, 68, 74, 73, 61,  1],\n",
      "        [66,  1, 61, 68, 76,  1, 73, 68],\n",
      "        [78, 58, 72,  1, 76, 58, 71, 58]], device='cuda:0')\n",
      "targets\n",
      "tensor([[73, 68,  1, 54, 65, 65,  1, 73],\n",
      "        [ 1, 66, 68, 74, 73, 61,  1, 68],\n",
      "        [ 1, 61, 68, 76,  1, 73, 68,  1],\n",
      "        [58, 72,  1, 76, 58, 71, 58,  1]], device='cuda:0')\n"
     ]
    }
   ],
   "source": [
    "n=int(0.8*len(data))\n",
    "train_data=data[:n]\n",
    "val_data=data[n:]\n",
    "\n",
    "def get_batch(split):\n",
    "    data=train_data if split=='train' else val_data\n",
    "    ix=torch.randint(len(data)-block_size,(batch_size,))\n",
    "    # print(ix)\n",
    "    x=torch.stack([data[i:i+block_size] for i in ix])\n",
    "    y=torch.stack([data[i+1:i+block_size+1] for i in ix])\n",
    "    x,y=x.to(device),y.to(device)\n",
    "    return x,y\n",
    "\n",
    "x,y=get_batch('train')\n",
    "print('inputs')\n",
    "print(x)\n",
    "print('targets')\n",
    "print(y)"
   ]
  },
  {
   "cell_type": "code",
   "execution_count": 10,
   "metadata": {},
   "outputs": [
    {
     "name": "stdout",
     "output_type": "stream",
     "text": [
      "when input is  tensor([80])  target is  tensor(1)\n",
      "when input is  tensor([80,  1])  target is  tensor(1)\n",
      "when input is  tensor([80,  1,  1])  target is  tensor(28)\n",
      "when input is  tensor([80,  1,  1, 28])  target is  tensor(39)\n",
      "when input is  tensor([80,  1,  1, 28, 39])  target is  tensor(42)\n",
      "when input is  tensor([80,  1,  1, 28, 39, 42])  target is  tensor(39)\n",
      "when input is  tensor([80,  1,  1, 28, 39, 42, 39])  target is  tensor(44)\n",
      "when input is  tensor([80,  1,  1, 28, 39, 42, 39, 44])  target is  tensor(32)\n"
     ]
    }
   ],
   "source": [
    "x=train_data[:block_size]\n",
    "y=train_data[1:block_size+1]\n",
    "\n",
    "for t in range(block_size):\n",
    "    context=x[:t+1]\n",
    "    target=y[t]\n",
    "    print('when input is ',context,' target is ',target)"
   ]
  },
  {
   "cell_type": "code",
   "execution_count": 22,
   "metadata": {},
   "outputs": [],
   "source": [
    "@torch.no_grad()\n",
    "def estimate_loss():\n",
    "    out={}\n",
    "    model.eval()\n",
    "    for split in ['train','val']:\n",
    "        losses=torch.zeros(eval_iters)\n",
    "        for k in range(eval_iters):\n",
    "            X,Y=get_batch(split)\n",
    "            logits,loss=model(X,Y)\n",
    "            losses[k]=loss.item()\n",
    "        out[split]=losses.mean()\n",
    "    model.train()\n",
    "    return out    "
   ]
  },
  {
   "cell_type": "code",
   "execution_count": 19,
   "metadata": {},
   "outputs": [
    {
     "data": {
      "text/plain": [
       "'cuda'"
      ]
     },
     "execution_count": 19,
     "metadata": {},
     "output_type": "execute_result"
    }
   ],
   "source": [
    "device"
   ]
  },
  {
   "cell_type": "code",
   "execution_count": 18,
   "metadata": {},
   "outputs": [],
   "source": [
    "class BigramLanguageModel(nn.Module):\n",
    "    def __init__(self, vocabulary_size):\n",
    "        super().__init__()\n",
    "        self.token_embedding_table = nn.Embedding(vocabulary_size, vocabulary_size)\n",
    "\n",
    "    def forward(self, index, targets=None):\n",
    "        logits = self.token_embedding_table(index)\n",
    "\n",
    "        if targets is None:\n",
    "            loss = None\n",
    "        else:\n",
    "            B, T, C = logits.shape\n",
    "            logits = logits.view(B * T, C)\n",
    "            targets = targets.view(B * T)\n",
    "            loss = F.cross_entropy(logits, targets)\n",
    "        return logits, loss\n",
    "\n",
    "    def generate(self, index, max_new_tokens):\n",
    "        for _ in range(max_new_tokens):\n",
    "            logits, loss = self.forward(index)\n",
    "            logits = logits[:, -1, :]\n",
    "            probs = F.softmax(logits, dim=-1)\n",
    "            index_next = torch.multinomial(probs, num_samples=1)\n",
    "            index = torch.cat((index, index_next), dim=1)\n",
    "        return index"
   ]
  },
  {
   "cell_type": "code",
   "execution_count": 20,
   "metadata": {},
   "outputs": [
    {
     "name": "stdout",
     "output_type": "stream",
     "text": [
      "\n",
      "xqoDYfr39Xvyn:EzuaCmjQ3UKuIVtE(DwykRNB*.wXvoF47F)e84nqAquuJVJ'l))4axP﻿UGfi6fr1O_mTM7uB2ycvKOw(:VW\"q\"u&iuyUFbuQ-L&LS7h(z'6cV1!:KyPcC?AW\"g&vH﻿3T 6!)ED6T.WRB_RA\"4j]mfQKXjUbkti?p﻿9nR55M7jrKWt8]wy,b)7_R]7Agk)zS[R?DUmu\n",
      "xWfO0teF:,FJ-MONtJ yb9Yo*EjSy4t1fP﻿GA;iiqz!Y4g:'sTWZAg'oJeAsr_,b'1z)EwX:AgU(1vFSJ3'CM]LhEt1C,uvk\"0Aa-cynP﻿R*HucCdR*X!)!sf?HQ9;ituWtS8L\n",
      "E47Rt,AW72z aZz-LU1C3uN,XJer:uxYoSjQamOfZ:\n",
      "sWa;08DwjXWbn9eJeYlJfk_QP_h8k?e8tyTvgBlumzr:*g5cVAgmm[0OjXQp1z4YfH5Wt8\n",
      "e1[EsbuttYftRt _)?_Hu*QelnSUgCw'9CV-pe\n"
     ]
    }
   ],
   "source": [
    "model = BigramLanguageModel(vocabulary_size)\n",
    "m = model.to(device)\n",
    "context = torch.zeros((1, 1), dtype=torch.long, device=device)\n",
    "generated_chars = decode(m.generate(context, max_new_tokens=500)[0].tolist())\n",
    "print(generated_chars)"
   ]
  },
  {
   "cell_type": "code",
   "execution_count": 28,
   "metadata": {},
   "outputs": [
    {
     "name": "stdout",
     "output_type": "stream",
     "text": [
      "step : 0,train losses : 2.633108377456665, validation losses: 2.6702687740325928\n",
      "step : 500,train losses : 2.645479440689087, validation losses: 2.6736841201782227\n",
      "step : 1000,train losses : 2.6114025115966797, validation losses: 2.651033878326416\n",
      "step : 1500,train losses : 2.5916192531585693, validation losses: 2.6586270332336426\n",
      "step : 2000,train losses : 2.613177537918091, validation losses: 2.6312878131866455\n",
      "step : 2500,train losses : 2.5859017372131348, validation losses: 2.62654447555542\n",
      "step : 3000,train losses : 2.590078353881836, validation losses: 2.611853837966919\n",
      "step : 3500,train losses : 2.5787744522094727, validation losses: 2.5963566303253174\n",
      "step : 4000,train losses : 2.587779998779297, validation losses: 2.603783130645752\n",
      "step : 4500,train losses : 2.561534881591797, validation losses: 2.604968309402466\n",
      "step : 5000,train losses : 2.5418245792388916, validation losses: 2.60144305229187\n",
      "step : 5500,train losses : 2.5533199310302734, validation losses: 2.582801103591919\n",
      "step : 6000,train losses : 2.557131290435791, validation losses: 2.5733084678649902\n",
      "step : 6500,train losses : 2.535250425338745, validation losses: 2.571087598800659\n",
      "step : 7000,train losses : 2.540217638015747, validation losses: 2.5721771717071533\n",
      "step : 7500,train losses : 2.535957098007202, validation losses: 2.568995952606201\n",
      "step : 8000,train losses : 2.530984878540039, validation losses: 2.551494598388672\n",
      "step : 8500,train losses : 2.5336902141571045, validation losses: 2.5656309127807617\n",
      "step : 9000,train losses : 2.518934965133667, validation losses: 2.5494580268859863\n",
      "step : 9500,train losses : 2.5155670642852783, validation losses: 2.5600905418395996\n",
      "2.5081493854522705\n"
     ]
    }
   ],
   "source": [
    "optimizer=torch.optim.AdamW(model.parameters(),lr=learning_rate)\n",
    "\n",
    "for iter in range(max_iters):\n",
    "    if iter%eval_iters==0:\n",
    "        losses=estimate_loss()\n",
    "        print(f\"step : {iter},train losses : {losses['train']:.4f}, validation losses: {losses['val']:.4f}\")\n",
    "    xb,yb=get_batch('train')\n",
    "\n",
    "    logits,loss=model.forward(xb,yb)\n",
    "    optimizer.zero_grad(set_to_none=True)\n",
    "    loss.backward()\n",
    "    optimizer.step()\n",
    "\n",
    "print( loss.item())"
   ]
  },
  {
   "cell_type": "code",
   "execution_count": 29,
   "metadata": {},
   "outputs": [
    {
     "name": "stdout",
     "output_type": "stream",
     "text": [
      "\n",
      "qAime w?﻿Bke ad the sthev8]ndin. s, k_; awd fr tralt. tror isit tlithk.\"\n",
      "\"FULUS8﻿6\n",
      "\" an tss?4Qce arosasere g tan,BBld eskes t thqshe wighevorvP﻿ ses Is sth, anare llippseang:s,\" firl.s wiptinse, tsroun maugind d avfind d, d oe qI'med bus. thastine ru, brr Va cly t?lon tomealerofie thinn.\n",
      "SB0trureri*ag, ir, oved b.\n",
      "\"'vesthe,\"Vh.\"&)S.\"\n",
      "(Yfanto be red semus thed\n",
      "\n",
      "wond fa, d ymeatholese an zay'sence. d SEil t m'th ar ilerain kead banr sa, THICI'laca  ghed a ared apVx'ormFthithery b, wevinoon,\"I t\n",
      "ke\n"
     ]
    }
   ],
   "source": [
    "context=torch.zeros((1,1),dtype=torch.long,device=device)\n",
    "generated_chars=decode(m.generate(context,max_new_tokens=500)[0].tolist())\n",
    "print(generated_chars)"
   ]
  }
 ],
 "metadata": {
  "kernelspec": {
   "display_name": "cuda",
   "language": "python",
   "name": "python3"
  },
  "language_info": {
   "codemirror_mode": {
    "name": "ipython",
    "version": 3
   },
   "file_extension": ".py",
   "mimetype": "text/x-python",
   "name": "python",
   "nbconvert_exporter": "python",
   "pygments_lexer": "ipython3",
   "version": "3.11.5"
  }
 },
 "nbformat": 4,
 "nbformat_minor": 4
}
